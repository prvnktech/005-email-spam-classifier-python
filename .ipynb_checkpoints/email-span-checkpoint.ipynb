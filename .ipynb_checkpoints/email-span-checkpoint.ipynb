{
 "cells": [
  {
   "cell_type": "markdown",
   "metadata": {},
   "source": [
    "# Spam email classifier\n",
    "#### In this project, I build a spam email classifier that can tell whether a given email is a spam email or not based on the email’s content \n",
    "### There four main parts:\n",
    "- __Clean the data__\n",
    "- __build feature vectors__\n",
    "- __Use Naive Bayes Classifier, SVM(linear kernel) and Logistic Regression to training the data and make predictions__\n",
    "- __Compare these models and discuss__"
   ]
  },
  {
   "cell_type": "markdown",
   "metadata": {},
   "source": [
    "## Part 1 - clean the data"
   ]
  },
  {
   "cell_type": "code",
   "execution_count": 1,
   "metadata": {},
   "outputs": [
    {
     "name": "stdout",
     "output_type": "stream",
     "text": [
      "()\n"
     ]
    }
   ],
   "source": [
    "print(\"hello\")"
   ]
  },
  {
   "cell_type": "code",
   "execution_count": 10,
   "metadata": {},
   "outputs": [],
   "source": [
    "import pandas as pd\n",
    "import numpy as np\n",
    "import os\n",
    "import email\n",
    "import email.policy\n",
    "import random\n",
    "import matplotlib.pyplot as plt"
   ]
  },
  {
   "cell_type": "code",
   "execution_count": 2,
   "metadata": {},
   "outputs": [],
   "source": [
    "#get spam and ham emails data\n",
    "#sourse is https://www.kaggle.com/veleon/ham-and-spam-dataset\n",
    "PATH = 'ham-and-spam-dataset/hamnspam/'\n",
    "ham_filenames = [name for name in os.listdir(PATH+'ham')]\n",
    "spam_filenames = [name for name in os.listdir(PATH+'spam')]\n",
    "random.shuffle(ham_filenames)  #shuffle first\n",
    "random.shuffle(spam_filenames)\n"
   ]
  },
  {
   "cell_type": "code",
   "execution_count": 7,
   "metadata": {},
   "outputs": [
    {
     "name": "stdout",
     "output_type": "stream",
     "text": [
      "Number of spam emails: 458\n",
      "Number of ham emails: 2548\n"
     ]
    }
   ],
   "source": [
    "#load emails\n",
    "def load_email(is_spam,filename,path):\n",
    "    '''\n",
    "    Load email by its name and loacation\n",
    "    \n",
    "    @is_spam: whether email is spam or not\n",
    "    @filename: email name\n",
    "    @path: PATH \n",
    "    \n",
    "    @return: email object\n",
    "    '''\n",
    "    if is_spam :\n",
    "        path = path + 'spam/' + filename\n",
    "    else :\n",
    "        path = path + 'ham/' + filename\n",
    "    with open(path,'rb') as f:\n",
    "        return email.parser.BytesParser(policy=email.policy.default).parse(f)\n",
    "\n",
    "ham_emails = [load_email(False,name,PATH) for name in ham_filenames]\n",
    "spam_emails = [load_email(True,name,PATH) for name in spam_filenames]\n",
    "\n",
    "#remove not text type emails\n",
    "ham_emails = [email for email in ham_emails if type(email.get_payload()) is str or len(email.get_payload())>1] \n",
    "spam_emails = [email for email in spam_emails if type(email.get_payload()) is str or len(email.get_payload())>1]\n",
    "\n",
    "print('Number of spam emails:',len(spam_emails))\n",
    "print('Number of ham emails:',len(ham_emails))\n"
   ]
  },
  {
   "cell_type": "code",
   "execution_count": 72,
   "metadata": {},
   "outputs": [
    {
     "name": "stdout",
     "output_type": "stream",
     "text": [
      "Example email content:\n",
      "\n",
      " This is the bottom line.  If you can GIVE AWAY CD's for FREE to people (like 80-100 in one month) and then let ME talk to them FOR you - if you can GIVE AWAY free product samples -  then YOU can earn $5,000 in the next 30 - 45 days.\n",
      "\n",
      "Think I'm kidding?  We earned PRECISELY $26,087.58 in our first 94 days doing JUST that - and we scanned our checks online for you to see them with your own eyes!  We\n",
      "\n",
      "\n"
     ]
    }
   ],
   "source": [
    "#example\n",
    "test_email = spam_emails[0]\n",
    "print('Example email content:\\n\\n',test_email.get_payload()[:400])  #limit the size to 400 chars\n",
    "print('\\n')\n"
   ]
  },
  {
   "cell_type": "code",
   "execution_count": 3,
   "metadata": {},
   "outputs": [
    {
     "name": "stderr",
     "output_type": "stream",
     "text": [
      "[nltk_data] Downloading package punkt to\n",
      "[nltk_data]     /Users/yuepengjiang/nltk_data...\n",
      "[nltk_data]   Package punkt is already up-to-date!\n"
     ]
    }
   ],
   "source": [
    "#stem words\n",
    "from nltk.stem import PorterStemmer\n",
    "from nltk.tokenize import sent_tokenize, word_tokenize\n",
    "import nltk\n",
    "nltk.download('punkt')\n",
    "ps = PorterStemmer()\n"
   ]
  },
  {
   "cell_type": "code",
   "execution_count": 4,
   "metadata": {},
   "outputs": [],
   "source": [
    "#process email's content\n",
    "import re\n",
    "import string\n",
    "def process_email(content) :\n",
    "    '''\n",
    "    preprocesses the content of an email \n",
    "    \n",
    "    and returns a dictionary with word as key and its frequency as value\n",
    "    @content : email content (a string)\n",
    "    @return : a counting dictionary \n",
    "    '''                                         \n",
    "    if not isinstance(content,str) :       \n",
    "        return {},''\n",
    "    content = re.sub(r'<[^<>]+>', ' ',content)  ##strip all HTML\n",
    "    content = str.lower(content) ##lower case\n",
    "    \n",
    "    #handle URLS with http:// or https://\n",
    "    content = re.sub(r'(http|https)://[^\\s]*','httpaddr ',content) \n",
    "    \n",
    "    #handle email addresses\n",
    "    #look for strings with @ in the middle\n",
    "    content = re.sub(r'[^\\s]+@[^\\s]+','emailaddr',content)\n",
    "    \n",
    "    content = re.sub(r'[0-9]+', 'number ',content) #handle numbers\n",
    "    content = re.sub(r'[$]+','dollar ',content) #handle $ sign \n",
    "    content = re.sub(r'[\\n]+',' ',content) #remove \\n\n",
    "    #remove punctuaion\n",
    "    content = re.sub(r'[{0}]'.format(string.punctuation),' ',content) \n",
    "    \n",
    "    res = {}\n",
    "    words = word_tokenize(content)\n",
    "    content = ' '.join([ps.stem(word) for word in words])\n",
    "    for word in words :\n",
    "        word = ps.stem(word)\n",
    "        if len(word) > 11 :\n",
    "            continue\n",
    "        if len(word) <=1 :\n",
    "            continue\n",
    "        if not res.get(word):\n",
    "            res[word] = 0\n",
    "        res[word] += 1\n",
    "    \n",
    "    return res,content\n"
   ]
  },
  {
   "cell_type": "code",
   "execution_count": 4,
   "metadata": {},
   "outputs": [
    {
     "name": "stdout",
     "output_type": "stream",
     "text": [
      "Email content becomes(only list 500 chars):\n",
      "\n",
      " thi is the bottom line if you can give away cd s for free to peopl like number number in one month and then let me talk to them for you if you can give away free product sampl then you can earn dollar number number in the next number number day think i m kid we earn precis dollar number number number in our first number day do just that and we scan our check onlin for you to see them with your own eye we ve tweak thing a littl becaus we do\n",
      "\n",
      "\n"
     ]
    }
   ],
   "source": [
    "(res,content) = process_email(test_email.get_payload())\n",
    "print('Email content becomes(only list 500 chars):\\n\\n',process_email(test_email.get_payload())[1][:500]) \n",
    "print('\\n')"
   ]
  },
  {
   "cell_type": "code",
   "execution_count": 83,
   "metadata": {},
   "outputs": [
    {
     "name": "stdout",
     "output_type": "stream",
     "text": [
      "number of total words in spam emails: 44304\n",
      "number of words that with frequency than 11: 1973\n"
     ]
    }
   ],
   "source": [
    "#build vocabulary for spam emails\n",
    "def build_vocab(emails) :\n",
    "    '''\n",
    "    build_vocab will build a vocabulary with words \n",
    "    appearing in the email content\n",
    "    @emails : list of email\n",
    "    @return : \n",
    "    '''\n",
    "    assert isinstance(emails,list)\n",
    "    dic = {}\n",
    "    index = 0\n",
    "    \n",
    "    while index < len(emails) :\n",
    "        email = emails[index]\n",
    "        judge = email.get_payload()\n",
    "        if type(judge) is not str:\n",
    "            dict_email = {}\n",
    "            for e in judge :\n",
    "                dic_toadd = process_email(e.get_payload())\n",
    "                for word in dic_toadd[0] :\n",
    "                    if not dic_email.get(word):\n",
    "                        dic_email[word] = 0\n",
    "                    dic_email[word] += 1\n",
    "        else :\n",
    "            dic_email = process_email(judge)[0]\n",
    "        for word in dic_email.keys() :\n",
    "            if not dic.get(word) :\n",
    "                dic[word] = 0\n",
    "            dic[word] += dic_email[word]\n",
    "        index+=1\n",
    "    \n",
    "    return dic\n",
    "# print(test_email['Subject'])\n",
    "vocab = build_vocab(spam_emails)\n",
    "print('number of total words in spam emails:', len(vocab.keys()))\n",
    "vocab = [word for word in vocab.keys() if vocab[word]>11]\n",
    "print('number of words that with frequency than 11:', len(vocab))\n",
    "n = len(vocab)\n"
   ]
  },
  {
   "cell_type": "code",
   "execution_count": 85,
   "metadata": {},
   "outputs": [],
   "source": [
    "#export vocabulary to a csv file\n",
    "df_vo = pd.DataFrame(vocab)\n",
    "df_vo = df_vo.rename(columns={0:'words'})\n",
    "df_vo.to_csv('vocabulary.csv',index=False)\n"
   ]
  },
  {
   "cell_type": "markdown",
   "metadata": {},
   "source": [
    "## Part 2 - build feature vectors\n",
    "__Feature vectors are constructed by the vocabulary with each column standing for a word in vocabulary__ \n",
    "\n",
    "__Based on eamil content, if email contains a certain word, then in its feature vector,\n",
    "the value of that word's location will be 1__"
   ]
  },
  {
   "cell_type": "code",
   "execution_count": 197,
   "metadata": {},
   "outputs": [],
   "source": [
    "import random\n",
    "class emailToFeature:\n",
    "    '''\n",
    "    This is a class for building feature vectors\n",
    "    '''\n",
    "    def __init__(self,filename) :\n",
    "        vocab = pd.read_csv(filename)\n",
    "        vocab = list(vocab['words'])\n",
    "        index = 0\n",
    "        vocabulary = {}\n",
    "        while index < len(vocab) :\n",
    "            vocabulary[vocab[index]] = index\n",
    "            index+=1\n",
    "        self.d = len(vocab)\n",
    "        self.vocab = vocabulary   \n",
    "    \n",
    "    def fea_vector(self,email) :\n",
    "        '''\n",
    "        return a numpy array(1Xn) representing the\n",
    "        feature vector\n",
    "        @email: input email can be both a string and email object\n",
    "        '''\n",
    "        if type(email) is str:\n",
    "            judge = email\n",
    "        else :\n",
    "            judge = email.get_payload()\n",
    "        if not type(judge) is str:\n",
    "            dic_email = {}\n",
    "            for e in judge :\n",
    "                dic_toadd = process_email(e.get_payload())\n",
    "                for word in dic_toadd[0] :\n",
    "                    if not dic_email.get(word):\n",
    "                        dic_email[word] = 0\n",
    "                    dic_email[word] += 1\n",
    "        else :\n",
    "            dic_email = process_email(judge)[0]\n",
    "            \n",
    "        res = np.zeros((1,self.d))\n",
    "        for word in dic_email.keys() :\n",
    "            if not self.vocab.get(word):\n",
    "                continue\n",
    "            index = self.vocab[word]\n",
    "            res[0,index] = 1\n",
    "        return res\n",
    "    \n",
    "    def build_vectors(self,is_spam,emails) :\n",
    "        '''\n",
    "        build feature vectors\n",
    "        \n",
    "        @emails : list of ham or spam emails\n",
    "        @return : numpy array representing feature vectors\n",
    "        '''\n",
    "        N = len(emails)  # N*d array\n",
    "        fea_vectors = np.zeros((N,self.d+1))\n",
    "        for i in range(N) :\n",
    "            a = self.fea_vector(emails[i])\n",
    "            fea_vectors[i,:-1] = a\n",
    "        if is_spam :\n",
    "            fea_vectors[:,self.d] = 1\n",
    "        else :\n",
    "            fea_vectors[:,self.d] = 0\n",
    "        return fea_vectors       \n",
    "    "
   ]
  },
  {
   "cell_type": "code",
   "execution_count": 92,
   "metadata": {},
   "outputs": [
    {
     "name": "stdout",
     "output_type": "stream",
     "text": [
      "size of spam feature vectors is: (458, 1974)\n",
      "size of ham feature vectors is: (2548, 1974)\n"
     ]
    }
   ],
   "source": [
    "#construct feature vectors and export them to csv files\n",
    "emailTof = emailToFeature('vocabulary.csv') #class object\n",
    "spam_vectors = emailTof.build_vectors(True,spam_emails)\n",
    "ham_vectors = emailTof.build_vectors(False,ham_emails)\n",
    "\n",
    "index = list(range(n+1))\n",
    "spam_df = pd.DataFrame(spam_vectors,columns=index)\n",
    "spam_df.to_csv('spam_vectors.csv',index = False)\n",
    "ham_df = pd.DataFrame(ham_vectors,columns=index)\n",
    "ham_df.to_csv('ham_vectors.csv',index=False)\n",
    "\n",
    "print('size of spam feature vectors is:',spam_vectors.shape)\n",
    "print('size of ham feature vectors is:',ham_vectors.shape)\n"
   ]
  },
  {
   "cell_type": "markdown",
   "metadata": {},
   "source": [
    "#### split the data to training set, cross-validation set and test set (60%,20%,20%)"
   ]
  },
  {
   "cell_type": "code",
   "execution_count": 102,
   "metadata": {},
   "outputs": [],
   "source": [
    "##split the data to training set, cross-validation set and test set (60%,20%,20%)\n",
    "ham_training = ham_vectors[:1530]\n",
    "ham_validation,ham_test = ham_vectors[1530:2039],ham_vectors[2039:]\n",
    "\n",
    "spam_training = spam_vectors[:274]\n",
    "spam_validation,spam_test = spam_vectors[274:365],spam_vectors[365:]\n",
    "\n",
    "training = np.concatenate((ham_training,spam_training))\n",
    "np.random.shuffle(training)\n",
    "pd.DataFrame(training,columns=index).to_csv('training.csv',index=False)\n",
    "\n",
    "cval = np.concatenate((ham_validation,spam_validation))\n",
    "test = np.concatenate((ham_test,spam_test))\n",
    "pd.DataFrame(cval,columns=index).to_csv('cross-validation.csv',index=False)\n",
    "pd.DataFrame(test,columns=index).to_csv('test.csv',index=False)\n"
   ]
  },
  {
   "cell_type": "markdown",
   "metadata": {},
   "source": [
    "## Part 3 - use models to train the data"
   ]
  },
  {
   "cell_type": "markdown",
   "metadata": {},
   "source": [
    "### First model: naive Bayes model"
   ]
  },
  {
   "cell_type": "code",
   "execution_count": 8,
   "metadata": {},
   "outputs": [],
   "source": [
    "#Get word frequency distribution in both spam and non-spam email\n",
    "#60% training data and 20% test data, the same as above\n",
    "#Only use the word whose frequency difference between spam and non-spam email is greater than 20\n",
    "vocab_spam = build_vocab(spam_emails[0:274])\n",
    "vocab_ham = build_vocab(ham_emails[0:1530])\n",
    "voc = [word for word in vocab_spam.keys() if vocab_ham.get(word) and abs(vocab_ham[word] - vocab_spam[word]) > 20] \n",
    "vocab_ham = {word:vocab_ham[word] for word in voc}\n",
    "vocab_spam = {word:vocab_spam[word] for word in voc}\n",
    "sum_ham,sum_spam = sum(list(vocab_ham.values())),sum(list(vocab_spam.values()))\n",
    "vocab_ham = {word:vocab_ham[word]/sum_ham for word in voc}   # key is word and value is probability in ham eamils\n",
    "vocab_spam = {word:vocab_spam[word]/sum_spam for word in voc} # key is word and value is probability in spam eamils"
   ]
  },
  {
   "cell_type": "code",
   "execution_count": 9,
   "metadata": {},
   "outputs": [],
   "source": [
    "# 20%test set\n",
    "spam_test,ham_test = spam_emails[365:],ham_emails[2039:]"
   ]
  },
  {
   "cell_type": "markdown",
   "metadata": {},
   "source": [
    "#### Visualize word frequency distribution of spam and non-spam email respectively"
   ]
  },
  {
   "cell_type": "code",
   "execution_count": 11,
   "metadata": {},
   "outputs": [],
   "source": [
    "word_spam = list(vocab_spam.keys())\n",
    "word_spam.sort(key=lambda x:vocab_spam[x],reverse=True)\n",
    "word_spam = word_spam[:100] #choose 100 words\n",
    "y_spam, y_ham= [vocab_spam[word] for word in word_spam],[vocab_ham[word] for word in word_spam]"
   ]
  },
  {
   "cell_type": "code",
   "execution_count": 15,
   "metadata": {},
   "outputs": [
    {
     "data": {
      "image/png": "[encoded data removed]",
      "text/plain": [
       "<Figure size 432x288 with 1 Axes>"
      ]
     },
     "metadata": {
      "needs_background": "light"
     },
     "output_type": "display_data"
    }
   ],
   "source": [
    "plt.plot(list(range(100)),y_spam)\n",
    "plt.ylabel('Probability')\n",
    "plt.xlabel('Index of word(only show 100 words)')\n",
    "plt.title('Word frequency probability distribution(spam email)')\n",
    "plt.show()"
   ]
  },
  {
   "cell_type": "code",
   "execution_count": 16,
   "metadata": {},
   "outputs": [
    {
     "data": {
      "image/png": "[encoded data removed]",
      "text/plain": [
       "<Figure size 432x288 with 1 Axes>"
      ]
     },
     "metadata": {
      "needs_background": "light"
     },
     "output_type": "display_data"
    }
   ],
   "source": [
    "plt.plot(list(range(100)),y_ham)\n",
    "plt.ylabel('Probability')\n",
    "plt.xlabel('Index of word(only show 100 words)')\n",
    "plt.title('Word frequency probability distribution(non-spam)')\n",
    "plt.show()"
   ]
  },
  {
   "cell_type": "code",
   "execution_count": 13,
   "metadata": {},
   "outputs": [],
   "source": [
    "def process_single(email):\n",
    "    '''\n",
    "    Return a str which represents processed email content\n",
    "    '''\n",
    "    judge = email.get_payload()\n",
    "    dic = {}\n",
    "    if type(judge) is not str:\n",
    "        dic_email = {}\n",
    "        for e in judge :\n",
    "            dic_toadd = process_email(e.get_payload())\n",
    "            for word in dic_toadd[0] :\n",
    "                if not dic_email.get(word):\n",
    "                    dic_email[word] = 0\n",
    "                dic_email[word] += 1\n",
    "    else :\n",
    "        dic_email = process_email(judge)[0]\n",
    "    for word in dic_email.keys() :\n",
    "        if not dic.get(word) :\n",
    "            dic[word] = 0\n",
    "        dic[word] += dic_email[word]\n",
    "    return dic"
   ]
  },
  {
   "cell_type": "code",
   "execution_count": 14,
   "metadata": {},
   "outputs": [],
   "source": [
    "#functions to compute precision, recall, f1-scrore and error\n",
    "def com_precision(y,y_p):\n",
    "    '''\n",
    "    y is true classification\n",
    "    y_p is predicted classification\n",
    "    '''\n",
    "    length = len(y)\n",
    "    num_pre1 = np.sum(y_p)\n",
    "    num_correct = 0\n",
    "    for i in range(length) :\n",
    "        if y_p[i] != 1:\n",
    "            continue\n",
    "        if y[i] == 1:\n",
    "            num_correct += 1\n",
    "    return num_correct / num_pre1\n",
    "\n",
    "def com_recall(y,y_p) :\n",
    "    '''\n",
    "    y is true classification\n",
    "    y_p is predicted classification\n",
    "    '''\n",
    "    actual1 = np.sum(y)\n",
    "    length = len(y)\n",
    "    num_correct = 0\n",
    "    for i in range(length) :\n",
    "        if y[i]!=1 :\n",
    "            continue \n",
    "        if y_p[i] == 1:\n",
    "            num_correct += 1\n",
    "    return num_correct / actual1\n",
    "\n",
    "def com_f1Score(precision,recall):\n",
    "    '''\n",
    "    Compute F1-score\n",
    "    ''' \n",
    "    return 2*precision*recall/(precision+recall)\n",
    "\n",
    "def com_error(y,y_p):\n",
    "    '''\n",
    "    compute error\n",
    "    '''\n",
    "    vali = np.ones(len(y))\n",
    "    vali = vali[y == y_p]\n",
    "    return 1-np.sum(vali) / len(y_p)"
   ]
  },
  {
   "cell_type": "code",
   "execution_count": 15,
   "metadata": {},
   "outputs": [],
   "source": [
    "#Predict\n",
    "indexs_spam = np.array([0]*(len(spam_test)+len(ham_test))) #this will be the predicted array \n",
    "judge_array = np.array([1]*len(spam_test)+[0]*len(ham_test)) # this is the true value array\n",
    "emails_t = spam_test + ham_test\n",
    "for i in range(len(spam_test)+len(ham_test)):\n",
    "    email = emails_t[i]\n",
    "    con = process_single(email)\n",
    "    con = {word:con[word] for word in con if vocab_spam.get(word)}\n",
    "    df = pd.DataFrame.from_dict(con,orient='index',columns=['frequency'])\n",
    "    prob_spam = np.array([vocab_spam[word] for word in df.index if vocab_spam.get(word)])\n",
    "    prob_spam = np.log(prob_spam)\n",
    "    df['prob_spam'] = prob_spam\n",
    "    prob_ham = np.array([vocab_ham[word] for word in df.index if vocab_spam.get(word)])\n",
    "    prob_ham = np.log(prob_ham)\n",
    "    df['prob_ham'] = prob_ham\n",
    "    if ((df['prob_spam'] * df['frequency']).sum()+np.log(0.1524) >= (df['prob_ham'] * df['frequency']).sum()+np.log(1-0.1524)) :\n",
    "        indexs_spam[i] = 1"
   ]
  },
  {
   "cell_type": "code",
   "execution_count": 18,
   "metadata": {},
   "outputs": [
    {
     "name": "stdout",
     "output_type": "stream",
     "text": [
      "precision for Naive Bayes is: 1.0\n",
      "recall for Naive Bayes is: 0.8709677419354839\n",
      "error for Naive Bayes is: 0.019933554817275767\n",
      "percentage of accuracy is: 98.01%\n"
     ]
    }
   ],
   "source": [
    "error_bayes = com_error(judge_array,indexs_spam)\n",
    "precision_bayes = com_precision(judge_array,indexs_spam)\n",
    "recall_bayes = com_recall(judge_array,indexs_spam)\n",
    "print('precision for Naive Bayes is:',precision_bayes)\n",
    "print('recall for Naive Bayes is:',recall_bayes)\n",
    "print('error for Naive Bayes is:',error_bayes)\n",
    "print('percentage of accuracy is:','{0:.4}'.format((1-error_bayes)*100)+'%')"
   ]
  },
  {
   "cell_type": "markdown",
   "metadata": {},
   "source": [
    "### Second model: SVM (support vector machine)"
   ]
  },
  {
   "cell_type": "code",
   "execution_count": 95,
   "metadata": {},
   "outputs": [],
   "source": [
    "import pandas as pd\n",
    "import numpy as np\n",
    "import matplotlib.pyplot as plt\n"
   ]
  },
  {
   "cell_type": "code",
   "execution_count": 99,
   "metadata": {},
   "outputs": [],
   "source": [
    "#svm training\n",
    "from sklearn import svm\n",
    "def linearKernel(x1,x2):\n",
    "    '''\n",
    "    A linear kernel function \n",
    "    return the value of similarity\n",
    "    '''\n",
    "    return x1.dot(x2.T)\n"
   ]
  },
  {
   "cell_type": "code",
   "execution_count": 114,
   "metadata": {},
   "outputs": [],
   "source": [
    "#import training data\n",
    "training = pd.read_csv('training.csv')\n",
    "X_training = training.loc[:,'0':str(n-1)]\n",
    "y_training = training.loc[:,[str(n)]]\n",
    "y_training = np.array(y_training)\n",
    "y_training = y_training[:,0]\n",
    "X_training = np.concatenate( (np.ones((X_training.shape[0],1)),X_training), 1)\n",
    "\n",
    "#import cross-validation data\n",
    "validation = pd.read_csv('cross-validation.csv')\n",
    "X_vali = validation.loc[:,'0':str(n-1)]\n",
    "y_vali = validation.loc[:,[str(n)]]\n",
    "y_vali = np.array(y_vali)\n",
    "y_vali = y_vali[:,0]\n",
    "X_vali = np.concatenate( (np.ones((X_vali.shape[0],1)),X_vali), 1)\n",
    "\n",
    "#import test data\n",
    "test = pd.read_csv('test.csv')\n",
    "X_test = test.loc[:,'0':str(n-1)]\n",
    "y_test = test.loc[:,[str(n)]]\n",
    "y_test = np.array(y_test)\n",
    "y_test = y_test[:,0]\n",
    "X_test = np.concatenate( (np.ones((X_test.shape[0],1)),X_test), 1)\n",
    "n = n+1 #number of columns\n"
   ]
  },
  {
   "cell_type": "markdown",
   "metadata": {},
   "source": [
    "#### Training and predicting"
   ]
  },
  {
   "cell_type": "code",
   "execution_count": 119,
   "metadata": {},
   "outputs": [],
   "source": [
    "#training and predicting test set\n",
    "clf = svm.SVC(kernel=linearKernel)\n",
    "clf.fit(X_training,y_training)\n",
    "y_test_p = clf.predict(X_test)\n"
   ]
  },
  {
   "cell_type": "markdown",
   "metadata": {},
   "source": [
    "#### Results of SVM model"
   ]
  },
  {
   "cell_type": "code",
   "execution_count": 178,
   "metadata": {},
   "outputs": [
    {
     "name": "stdout",
     "output_type": "stream",
     "text": [
      "precision for svm is: 0.967391304347826\n",
      "recall for svm is: 0.956989247311828\n",
      "F1-score for svm is: 0.9621621621621621\n",
      "error for svm is: 0.011627906976744207\n",
      "percentage of correct prediction is: 98.84%\n"
     ]
    }
   ],
   "source": [
    "#results for svm \n",
    "precision,recall = com_precision(y_test,y_test_p),com_recall(y_test,y_test_p)\n",
    "f1_score = com_f1Score(precision,recall)\n",
    "error = com_error(y_test,y_test_p)\n",
    "print('precision for svm is:',precision)\n",
    "print('recall for svm is:',recall)\n",
    "print('F1-score for svm is:',f1_score)\n",
    "print('error for svm is:',error)\n",
    "print('percentage of correct prediction is:','{0:.4}'.format((1-error)*100)+'%')\n"
   ]
  },
  {
   "cell_type": "code",
   "execution_count": 248,
   "metadata": {},
   "outputs": [],
   "source": [
    "#learning curve for svm\n",
    "m = X_training.shape[0]\n",
    "t_size = range(m//20,m,m//20)\n",
    "error_training_svm,error_vali_svm = [],[]\n",
    "for size in t_size:\n",
    "    X,y = X_training[:size],y_training[:size]\n",
    "    clf.fit(X,y)\n",
    "    y_p_vali = clf.predict(X_vali)\n",
    "    y_p_training = clf.predict(X)\n",
    "    error_training_svm.append(com_error(y,y_p_training))\n",
    "    error_vali_svm.append(com_error(y_vali,y_p_vali))\n",
    "    "
   ]
  },
  {
   "cell_type": "markdown",
   "metadata": {},
   "source": [
    "#### Learning curve"
   ]
  },
  {
   "cell_type": "code",
   "execution_count": 284,
   "metadata": {},
   "outputs": [
    {
     "data": {
      "image/png": "[encoded data removed]",
      "text/plain": [
       "<Figure size 432x288 with 1 Axes>"
      ]
     },
     "metadata": {
      "needs_background": "light"
     },
     "output_type": "display_data"
    }
   ],
   "source": [
    "plt.plot(list(t_size),error_vali_svm)\n",
    "plt.plot(list(t_size),error_training_svm)\n",
    "# fig = plt.gcf()\n",
    "# fig.set_size_inches(4., 5)\n",
    "plt.ylabel('Error')\n",
    "plt.xlabel('Size of Training Set')\n",
    "plt.legend(['cross-validation','training'])\n",
    "plt.show()\n"
   ]
  },
  {
   "cell_type": "markdown",
   "metadata": {},
   "source": [
    "### Third model: Logistic Regression(with regularization)"
   ]
  },
  {
   "cell_type": "code",
   "execution_count": 158,
   "metadata": {},
   "outputs": [],
   "source": [
    "##logistic training (with regularization)\n",
    "import scipy.optimize as op\n",
    "def sigmoid(z):\n",
    "    '''\n",
    "    Compute sigmaoid of a matrix \n",
    "    '''\n",
    "    return 1/(1 + np.exp(-z))\n",
    "\n",
    "def gradient(theta,x,y,lam):\n",
    "    '''\n",
    "    Compute gradient\n",
    "    '''\n",
    "    m , n = x.shape\n",
    "    theta = theta.reshape((n,1))\n",
    "    y = y.reshape((m,1))\n",
    "    sigmoid_x_theta = sigmoid(x.dot(theta))\n",
    "    grad = ((x.T).dot(sigmoid_x_theta-y))/m\n",
    "    \n",
    "    grad += lam*theta/m \n",
    "    grad[0,0] -=  lam * theta[0,0] / m\n",
    "    return grad.flatten()\n",
    "\n",
    "def costFunction(theta,x,y,lam):\n",
    "    '''\n",
    "    compute the cost\n",
    "    '''\n",
    "    epsilon = 1e-10\n",
    "    m,n = x.shape \n",
    "    theta = theta.reshape((n,1))\n",
    "    y = y.reshape((m,1))\n",
    "    first = np.log(sigmoid(x.dot(theta))+epsilon)\n",
    "    second = np.log(1-sigmoid(x.dot(theta))+epsilon)\n",
    "    first = first.reshape((m,1))\n",
    "    second = second.reshape((m,1))\n",
    "    all_m = y * first + (1 - y) * second\n",
    "    J = -((np.sum(all_m))/m)\n",
    "    \n",
    "    J += np.sum(np.transpose(theta).dot(theta) * lam / (2*m) - lam*theta[0,0]**2 / (2*m))\n",
    "    return J\n"
   ]
  },
  {
   "cell_type": "markdown",
   "metadata": {},
   "source": [
    "#### Training with different lambda"
   ]
  },
  {
   "cell_type": "code",
   "execution_count": 159,
   "metadata": {},
   "outputs": [],
   "source": [
    "#training by logistic regression\n",
    "lambdas = [0,0.05,0.1,0.5,1,2,4,8,16,32]\n",
    "error_training = []\n",
    "error_vali = []\n",
    "X = X_training \n",
    "m,n = X.shape\n",
    "for i in range(len(lambdas)):   \n",
    "    initial_theta = np.zeros(n)\n",
    "    Result = op.minimize(fun = costFunction,x0 = initial_theta, args = (X, y_training,lambdas[i]),\n",
    "                                 method = 'TNC',\n",
    "                                 jac = Gradient)\n",
    "    theta = Result.x\n",
    "    theta = theta.reshape((X.shape[1],1))\n",
    "    pre_vali = X_vali.dot(theta)[:,0] \n",
    "    pre_training = X_training.dot(theta)[:,0]\n",
    "    for row in range(len(pre_vali)):\n",
    "        if pre_vali[row] > 0:\n",
    "            pre_vali[row] = 1\n",
    "        else :\n",
    "            pre_vali[row] = 0\n",
    "    for row in range(len(pre_training)):\n",
    "        if pre_training[row] > 0:\n",
    "            pre_training[row] = 1\n",
    "        else :\n",
    "            pre_training[row] = 0\n",
    "    error_vali.append(com_error(y_vali,pre_vali))\n",
    "    error_training.append(com_error(y_training,pre_training))\n",
    "    "
   ]
  },
  {
   "cell_type": "code",
   "execution_count": 160,
   "metadata": {},
   "outputs": [
    {
     "data": {
      "image/png": "[encoded data removed]",
      "text/plain": [
       "<Figure size 288x360 with 1 Axes>"
      ]
     },
     "metadata": {
      "needs_background": "light"
     },
     "output_type": "display_data"
    }
   ],
   "source": [
    "#visualization\n",
    "plt.plot(list(range(len(lambdas))),error_vali)\n",
    "plt.plot(list(range(len(lambdas))),error_training)\n",
    "fig = plt.gcf()\n",
    "fig.set_size_inches(4., 5)\n",
    "plt.ylabel('Error')\n",
    "plt.xlabel('Index of lambas')\n",
    "plt.legend(['cross-validation','training'])\n",
    "plt.show()\n",
    "best_lam = lambdas[error_vali.index(min(error_vali))]\n"
   ]
  },
  {
   "cell_type": "markdown",
   "metadata": {},
   "source": [
    "#### Pick the best lambda and use it to train the data"
   ]
  },
  {
   "cell_type": "code",
   "execution_count": 164,
   "metadata": {},
   "outputs": [
    {
     "name": "stdout",
     "output_type": "stream",
     "text": [
      "The best lambda is: 2\n"
     ]
    }
   ],
   "source": [
    "#training with the best lambda\n",
    "print('The best lambda is:',best_lam)\n",
    "initial_theta = np.zeros(n)\n",
    "Result = op.minimize(fun = costFunction, x0 = initial_theta, args = (X, y_training,best_lam),                                   \n",
    "                                 method = 'TNC',\n",
    "                                 jac = gradient)\n",
    "theta = Result.x\n",
    "theta = theta.reshape((X.shape[1],1))\n",
    "y_test_LR = X_test.dot(theta)[:,0]\n",
    "for row in range(len(y_test_LR)):\n",
    "    if y_test_LR[row] > 0:\n",
    "        y_test_LR[row] = 1\n",
    "    else :\n",
    "        y_test_LR[row] = 0"
   ]
  },
  {
   "cell_type": "markdown",
   "metadata": {},
   "source": [
    "### Results for LR model"
   ]
  },
  {
   "cell_type": "code",
   "execution_count": 177,
   "metadata": {},
   "outputs": [
    {
     "name": "stdout",
     "output_type": "stream",
     "text": [
      "precision for logistic regression is: 0.989010989010989\n",
      "recall for logistic regression is: 0.967741935483871\n",
      "F1-score for logistic regression is: 0.9782608695652174\n",
      "error for logistic regression is: 0.006644518272425293\n",
      "percentage of correct prediction is: 99.34%\n"
     ]
    }
   ],
   "source": [
    "precision,recall = com_precision(y_test,y_test_LR),com_recall(y_test,y_test_LR)\n",
    "f1_score = com_f1Score(precision,recall)\n",
    "error = com_error(y_test,y_test_LR)\n",
    "print('precision for logistic regression is:',precision)\n",
    "print('recall for logistic regression is:',recall)\n",
    "print('F1-score for logistic regression is:',f1_score)\n",
    "print('error for logistic regression is:',error)\n",
    "print('percentage of correct prediction is:','{0:.4}'.format((1-error)*100)+'%')\n"
   ]
  },
  {
   "cell_type": "markdown",
   "metadata": {},
   "source": [
    "### Learning curve"
   ]
  },
  {
   "cell_type": "code",
   "execution_count": 256,
   "metadata": {},
   "outputs": [],
   "source": [
    "##learning curve for LR\n",
    "m,n = X_training.shape\n",
    "t_size = range(m//20,m,m//20)\n",
    "error_training,error_vali = [],[]\n",
    "for size in t_size:\n",
    "    X,y = X_training[:size],y_training[:size]\n",
    "    initial_theta = np.zeros(n)\n",
    "    Result = op.minimize(fun = costFunction, x0 = initial_theta, args = (X, y,best_lam),                                   \n",
    "                                 method = 'TNC',\n",
    "                                 jac = gradient)\n",
    "    theta = Result.x\n",
    "    theta = theta.reshape((X.shape[1],1))\n",
    "    pre_vali = X_vali.dot(theta)[:,0] \n",
    "    pre_training = X.dot(theta)[:,0]\n",
    "    for row in range(len(pre_vali)):\n",
    "        if pre_vali[row] > 0:\n",
    "            pre_vali[row] = 1\n",
    "        else :\n",
    "            pre_vali[row] = 0\n",
    "    for row in range(len(pre_training)):\n",
    "        if pre_training[row] > 0:\n",
    "            pre_training[row] = 1\n",
    "        else :\n",
    "            pre_training[row] = 0\n",
    "    error_vali.append(com_error(y_vali,pre_vali))\n",
    "    error_training.append(com_error(y,pre_training))"
   ]
  },
  {
   "cell_type": "code",
   "execution_count": 257,
   "metadata": {},
   "outputs": [
    {
     "data": {
      "image/png": "[encoded data removed]",
      "text/plain": [
       "<Figure size 432x288 with 1 Axes>"
      ]
     },
     "metadata": {
      "needs_background": "light"
     },
     "output_type": "display_data"
    }
   ],
   "source": [
    "#visualization\n",
    "plt.plot(list(t_size),error_vali)\n",
    "plt.plot(list(t_size),error_training)\n",
    "# fig = plt.gcf()\n",
    "# fig.set_size_inches(4., 5)\n",
    "plt.ylabel('Error')\n",
    "plt.xlabel('Size of Training Set')\n",
    "plt.legend(['cross-validation','training'])\n",
    "plt.show()\n"
   ]
  },
  {
   "cell_type": "markdown",
   "metadata": {},
   "source": [
    "# Part 4 - Discussion"
   ]
  },
  {
   "cell_type": "markdown",
   "metadata": {},
   "source": [
    "## Discussion\n",
    "- Both Naive Bayes, SVM and LR are good models for this spam eamil classification problem<br>\n",
    "- LR with the best lambda has a better performance in this dataset<br>\n",
    "- The precision of Naive Bayes is 1.0 which means that if you want to make sure that the emails you predict as spam emails are also actually spam emails, then you should use Naive Bayes classifier.\n",
    "- In the learning curve, when the size of the training set is small, error tends to be higher than that when the size is large which means the model seems slightly underfit the data. I think this is probably because of the way I build the feature vectors. In the way I build the teature vectors, I ignore the word's frequency and just make them all to be 1."
   ]
  },
  {
   "cell_type": "markdown",
   "metadata": {},
   "source": [
    "## Further improvement\n",
    "- As discussed above, the first improvement I think is considering the word's frequency in feature vectors\n",
    "- Add more features. For example, in many junk eamils, there are a lot of '!' signs. So add the '!' sign as a new feature may help reduce the error. Also, we can consider the email's subject since it is a good indicator for classification. \n",
    "- Get more data! This dataset is not large enough to build a general spam eamil classifier."
   ]
  }
 ],
 "metadata": {
  "kernelspec": {
   "display_name": "conda_amazonei_mxnet_p27",
   "language": "python",
   "name": "conda_amazonei_mxnet_p27"
  },
  "language_info": {
   "codemirror_mode": {
    "name": "ipython",
    "version": 2
   },
   "file_extension": ".py",
   "mimetype": "text/x-python",
   "name": "python",
   "nbconvert_exporter": "python",
   "pygments_lexer": "ipython2",
   "version": "2.7.16"
  }
 },
 "nbformat": 4,
 "nbformat_minor": 4
}
